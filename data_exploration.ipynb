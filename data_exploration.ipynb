{
 "cells": [
  {
   "cell_type": "code",
   "execution_count": 1,
   "metadata": {},
   "outputs": [],
   "source": [
    "import numpy as np\n",
    "import pandas as pd\n",
    "\n",
    "import seaborn as sns\n",
    "import matplotlib.pyplot as plt\n",
    "%matplotlib inline"
   ]
  },
  {
   "cell_type": "code",
   "execution_count": 2,
   "metadata": {},
   "outputs": [],
   "source": [
    "np.random.seed(1)"
   ]
  },
  {
   "cell_type": "code",
   "execution_count": 3,
   "metadata": {},
   "outputs": [],
   "source": [
    "df = pd.read_csv('../kidney_disease_data.csv',sep= ',')"
   ]
  },
  {
   "cell_type": "code",
   "execution_count": 4,
   "metadata": {},
   "outputs": [],
   "source": [
    "df = df.drop('id',axis=1)"
   ]
  },
  {
   "cell_type": "markdown",
   "metadata": {},
   "source": [
    "There are 25 attributes: <br/>\n",
    "1) age: Age (yeas) --> numerical<br/>\n",
    "2) bp: Blood Pressure (mm/Hg) --> numerical<br/>\n",
    "3) sg: Specific Gravity (1.005,1.010,1.015,1.020,1.025) --> numerical<br/>\n",
    "4) al: Albumin(0,1,2,3,4,5) --> numerical<br/>\n",
    "5) su: Sugar(0,1,2,3,4,5) --> numerical<br/>\n",
    "6) rbc: Red Blood Cells (normal, abnormal) --> binary <br/>\n",
    "7) pc: Pus Cell (normal, abnormal) --> binary <br/>\n",
    "8) pcc: Pus Cell clumps (present, notpresent) --> binary<br/>\n",
    "9) ba: Bacteria (present, notpresent) --> binary<br/>\n",
    "10) bgr: Blood Glucose Random (mgs/dl) --> numerical<br/>\n",
    "11) bu: Blood Urea (mgs/dl) --> numerical<br/>\n",
    "12) sc: Serum Creatinine (mgs/dl) --> numerical<br/>\n",
    "13) sod: Sodium (mEq/L) --> numerical<br/>\n",
    "14) pot: Potassium (mEq/L) --> numerical<br/>\n",
    "15) hemo: Hemoglobin (gms) --> numerical<br/>\n",
    "16) pcv: Packed Cell Volume --> numerical<br/>\n",
    "17) wc: White Blood Cell Count (cells/cumm) --> numerical<br/>\n",
    "18) rc: Red Blood Cell Count (millions/cmm) --> numerical<br/>\n",
    "19) htn: Hypertension (yes, no) --> binary <br/>\n",
    "20) dm: Diabetes Mellitus (yes, no) --> binary <br/>\n",
    "21) cad: Coronary Artery Disease (yes, no) --> binary<br/>\n",
    "22) appet: Appetite (good, poor) --> binary <br/>\n",
    "23) pe: Pedal Edema (yes, no) --> binary <br/>\n",
    "24) ane: Anemia (yes, no) --> binary <br/>\n",
    "\n",
    "and 1 class: ckd (chronic kidney disease) and notckd (not chronic kidney disease)"
   ]
  },
  {
   "cell_type": "code",
   "execution_count": 5,
   "metadata": {},
   "outputs": [
    {
     "name": "stdout",
     "output_type": "stream",
     "text": [
      "<class 'pandas.core.frame.DataFrame'>\n",
      "RangeIndex: 400 entries, 0 to 399\n",
      "Data columns (total 25 columns):\n",
      "age               391 non-null float64\n",
      "bp                388 non-null float64\n",
      "sg                353 non-null float64\n",
      "al                354 non-null float64\n",
      "su                351 non-null float64\n",
      "rbc               248 non-null object\n",
      "pc                335 non-null object\n",
      "pcc               396 non-null object\n",
      "ba                396 non-null object\n",
      "bgr               356 non-null float64\n",
      "bu                381 non-null float64\n",
      "sc                383 non-null float64\n",
      "sod               313 non-null float64\n",
      "pot               312 non-null float64\n",
      "hemo              348 non-null float64\n",
      "pcv               330 non-null object\n",
      "wc                295 non-null object\n",
      "rc                270 non-null object\n",
      "htn               398 non-null object\n",
      "dm                398 non-null object\n",
      "cad               398 non-null object\n",
      "appet             399 non-null object\n",
      "pe                399 non-null object\n",
      "ane               399 non-null object\n",
      "classification    400 non-null object\n",
      "dtypes: float64(11), object(14)\n",
      "memory usage: 78.2+ KB\n"
     ]
    }
   ],
   "source": [
    "df.info()"
   ]
  },
  {
   "cell_type": "markdown",
   "metadata": {},
   "source": [
    "We will remove the attributes `rbc`, `wc`, and `rc` which contain so many missing values."
   ]
  },
  {
   "cell_type": "code",
   "execution_count": 6,
   "metadata": {},
   "outputs": [],
   "source": [
    "df = df.drop(['rbc', 'wc', 'rc','sod','pot'],axis=1)"
   ]
  },
  {
   "cell_type": "code",
   "execution_count": 7,
   "metadata": {
    "scrolled": true
   },
   "outputs": [
    {
     "name": "stdout",
     "output_type": "stream",
     "text": [
      "<class 'pandas.core.frame.DataFrame'>\n",
      "RangeIndex: 400 entries, 0 to 399\n",
      "Data columns (total 20 columns):\n",
      "age               391 non-null float64\n",
      "bp                388 non-null float64\n",
      "sg                353 non-null float64\n",
      "al                354 non-null float64\n",
      "su                351 non-null float64\n",
      "pc                335 non-null object\n",
      "pcc               396 non-null object\n",
      "ba                396 non-null object\n",
      "bgr               356 non-null float64\n",
      "bu                381 non-null float64\n",
      "sc                383 non-null float64\n",
      "hemo              348 non-null float64\n",
      "pcv               330 non-null object\n",
      "htn               398 non-null object\n",
      "dm                398 non-null object\n",
      "cad               398 non-null object\n",
      "appet             399 non-null object\n",
      "pe                399 non-null object\n",
      "ane               399 non-null object\n",
      "classification    400 non-null object\n",
      "dtypes: float64(9), object(11)\n",
      "memory usage: 62.6+ KB\n"
     ]
    }
   ],
   "source": [
    "df.info()"
   ]
  },
  {
   "cell_type": "code",
   "execution_count": 8,
   "metadata": {
    "scrolled": true
   },
   "outputs": [
    {
     "data": {
      "text/html": [
       "<div>\n",
       "<style scoped>\n",
       "    .dataframe tbody tr th:only-of-type {\n",
       "        vertical-align: middle;\n",
       "    }\n",
       "\n",
       "    .dataframe tbody tr th {\n",
       "        vertical-align: top;\n",
       "    }\n",
       "\n",
       "    .dataframe thead th {\n",
       "        text-align: right;\n",
       "    }\n",
       "</style>\n",
       "<table border=\"1\" class=\"dataframe\">\n",
       "  <thead>\n",
       "    <tr style=\"text-align: right;\">\n",
       "      <th></th>\n",
       "      <th>age</th>\n",
       "      <th>bp</th>\n",
       "      <th>sg</th>\n",
       "      <th>al</th>\n",
       "      <th>su</th>\n",
       "      <th>pc</th>\n",
       "      <th>pcc</th>\n",
       "      <th>ba</th>\n",
       "      <th>bgr</th>\n",
       "      <th>bu</th>\n",
       "      <th>sc</th>\n",
       "      <th>hemo</th>\n",
       "      <th>pcv</th>\n",
       "      <th>htn</th>\n",
       "      <th>dm</th>\n",
       "      <th>cad</th>\n",
       "      <th>appet</th>\n",
       "      <th>pe</th>\n",
       "      <th>ane</th>\n",
       "      <th>classification</th>\n",
       "    </tr>\n",
       "  </thead>\n",
       "  <tbody>\n",
       "    <tr>\n",
       "      <th>0</th>\n",
       "      <td>48.0</td>\n",
       "      <td>80.0</td>\n",
       "      <td>1.020</td>\n",
       "      <td>1.0</td>\n",
       "      <td>0.0</td>\n",
       "      <td>normal</td>\n",
       "      <td>notpresent</td>\n",
       "      <td>notpresent</td>\n",
       "      <td>121.0</td>\n",
       "      <td>36.0</td>\n",
       "      <td>1.2</td>\n",
       "      <td>15.4</td>\n",
       "      <td>44</td>\n",
       "      <td>yes</td>\n",
       "      <td>yes</td>\n",
       "      <td>no</td>\n",
       "      <td>good</td>\n",
       "      <td>no</td>\n",
       "      <td>no</td>\n",
       "      <td>ckd</td>\n",
       "    </tr>\n",
       "    <tr>\n",
       "      <th>1</th>\n",
       "      <td>7.0</td>\n",
       "      <td>50.0</td>\n",
       "      <td>1.020</td>\n",
       "      <td>4.0</td>\n",
       "      <td>0.0</td>\n",
       "      <td>normal</td>\n",
       "      <td>notpresent</td>\n",
       "      <td>notpresent</td>\n",
       "      <td>NaN</td>\n",
       "      <td>18.0</td>\n",
       "      <td>0.8</td>\n",
       "      <td>11.3</td>\n",
       "      <td>38</td>\n",
       "      <td>no</td>\n",
       "      <td>no</td>\n",
       "      <td>no</td>\n",
       "      <td>good</td>\n",
       "      <td>no</td>\n",
       "      <td>no</td>\n",
       "      <td>ckd</td>\n",
       "    </tr>\n",
       "    <tr>\n",
       "      <th>2</th>\n",
       "      <td>62.0</td>\n",
       "      <td>80.0</td>\n",
       "      <td>1.010</td>\n",
       "      <td>2.0</td>\n",
       "      <td>3.0</td>\n",
       "      <td>normal</td>\n",
       "      <td>notpresent</td>\n",
       "      <td>notpresent</td>\n",
       "      <td>423.0</td>\n",
       "      <td>53.0</td>\n",
       "      <td>1.8</td>\n",
       "      <td>9.6</td>\n",
       "      <td>31</td>\n",
       "      <td>no</td>\n",
       "      <td>yes</td>\n",
       "      <td>no</td>\n",
       "      <td>poor</td>\n",
       "      <td>no</td>\n",
       "      <td>yes</td>\n",
       "      <td>ckd</td>\n",
       "    </tr>\n",
       "    <tr>\n",
       "      <th>3</th>\n",
       "      <td>48.0</td>\n",
       "      <td>70.0</td>\n",
       "      <td>1.005</td>\n",
       "      <td>4.0</td>\n",
       "      <td>0.0</td>\n",
       "      <td>abnormal</td>\n",
       "      <td>present</td>\n",
       "      <td>notpresent</td>\n",
       "      <td>117.0</td>\n",
       "      <td>56.0</td>\n",
       "      <td>3.8</td>\n",
       "      <td>11.2</td>\n",
       "      <td>32</td>\n",
       "      <td>yes</td>\n",
       "      <td>no</td>\n",
       "      <td>no</td>\n",
       "      <td>poor</td>\n",
       "      <td>yes</td>\n",
       "      <td>yes</td>\n",
       "      <td>ckd</td>\n",
       "    </tr>\n",
       "    <tr>\n",
       "      <th>4</th>\n",
       "      <td>51.0</td>\n",
       "      <td>80.0</td>\n",
       "      <td>1.010</td>\n",
       "      <td>2.0</td>\n",
       "      <td>0.0</td>\n",
       "      <td>normal</td>\n",
       "      <td>notpresent</td>\n",
       "      <td>notpresent</td>\n",
       "      <td>106.0</td>\n",
       "      <td>26.0</td>\n",
       "      <td>1.4</td>\n",
       "      <td>11.6</td>\n",
       "      <td>35</td>\n",
       "      <td>no</td>\n",
       "      <td>no</td>\n",
       "      <td>no</td>\n",
       "      <td>good</td>\n",
       "      <td>no</td>\n",
       "      <td>no</td>\n",
       "      <td>ckd</td>\n",
       "    </tr>\n",
       "  </tbody>\n",
       "</table>\n",
       "</div>"
      ],
      "text/plain": [
       "    age    bp     sg   al   su        pc         pcc          ba    bgr    bu  \\\n",
       "0  48.0  80.0  1.020  1.0  0.0    normal  notpresent  notpresent  121.0  36.0   \n",
       "1   7.0  50.0  1.020  4.0  0.0    normal  notpresent  notpresent    NaN  18.0   \n",
       "2  62.0  80.0  1.010  2.0  3.0    normal  notpresent  notpresent  423.0  53.0   \n",
       "3  48.0  70.0  1.005  4.0  0.0  abnormal     present  notpresent  117.0  56.0   \n",
       "4  51.0  80.0  1.010  2.0  0.0    normal  notpresent  notpresent  106.0  26.0   \n",
       "\n",
       "    sc  hemo pcv  htn   dm cad appet   pe  ane classification  \n",
       "0  1.2  15.4  44  yes  yes  no  good   no   no            ckd  \n",
       "1  0.8  11.3  38   no   no  no  good   no   no            ckd  \n",
       "2  1.8   9.6  31   no  yes  no  poor   no  yes            ckd  \n",
       "3  3.8  11.2  32  yes   no  no  poor  yes  yes            ckd  \n",
       "4  1.4  11.6  35   no   no  no  good   no   no            ckd  "
      ]
     },
     "execution_count": 8,
     "metadata": {},
     "output_type": "execute_result"
    }
   ],
   "source": [
    "# repalce empty by nan\n",
    "df = df.replace(r'^\\s+$', np.nan, regex=True)\n",
    "df.head()"
   ]
  },
  {
   "cell_type": "code",
   "execution_count": 9,
   "metadata": {
    "scrolled": true
   },
   "outputs": [
    {
     "name": "stdout",
     "output_type": "stream",
     "text": [
      "<class 'pandas.core.frame.DataFrame'>\n",
      "RangeIndex: 400 entries, 0 to 399\n",
      "Data columns (total 20 columns):\n",
      "age               391 non-null float64\n",
      "bp                388 non-null float64\n",
      "sg                353 non-null float64\n",
      "al                354 non-null float64\n",
      "su                351 non-null float64\n",
      "pc                335 non-null object\n",
      "pcc               396 non-null object\n",
      "ba                396 non-null object\n",
      "bgr               356 non-null float64\n",
      "bu                381 non-null float64\n",
      "sc                383 non-null float64\n",
      "hemo              348 non-null float64\n",
      "pcv               330 non-null object\n",
      "htn               398 non-null object\n",
      "dm                398 non-null object\n",
      "cad               398 non-null object\n",
      "appet             399 non-null object\n",
      "pe                399 non-null object\n",
      "ane               399 non-null object\n",
      "classification    400 non-null object\n",
      "dtypes: float64(9), object(11)\n",
      "memory usage: 62.6+ KB\n"
     ]
    }
   ],
   "source": [
    "df.info()"
   ]
  },
  {
   "cell_type": "code",
   "execution_count": 10,
   "metadata": {},
   "outputs": [
    {
     "data": {
      "text/plain": [
       "array([ 13.,  17.,  21.,  23.,  30.,  57.,  59.,  82.,  86., 104., 109.,\n",
       "       113., 122., 125., 132., 142., 148., 161., 165., 166., 188., 197.,\n",
       "       203., 215., 222., 228., 232., 268.])"
      ]
     },
     "execution_count": 10,
     "metadata": {},
     "output_type": "execute_result"
    }
   ],
   "source": [
    "# find bad rows having too many missing values\n",
    "n_null = np.array(df.isnull().sum(axis=1))\n",
    "bad_row = np.array([])\n",
    "for t in range(len(n_null)):\n",
    "    if n_null[t] > 4:\n",
    "        #print(t)\n",
    "        bad_row = np.append(bad_row,t)\n",
    "        \n",
    "bad_row"
   ]
  },
  {
   "cell_type": "code",
   "execution_count": 11,
   "metadata": {},
   "outputs": [
    {
     "data": {
      "text/plain": [
       "28"
      ]
     },
     "execution_count": 11,
     "metadata": {},
     "output_type": "execute_result"
    }
   ],
   "source": [
    "len(bad_row)"
   ]
  },
  {
   "cell_type": "code",
   "execution_count": 12,
   "metadata": {},
   "outputs": [
    {
     "name": "stdout",
     "output_type": "stream",
     "text": [
      "<class 'pandas.core.frame.DataFrame'>\n",
      "Int64Index: 372 entries, 0 to 399\n",
      "Data columns (total 20 columns):\n",
      "age               366 non-null float64\n",
      "bp                364 non-null float64\n",
      "sg                347 non-null float64\n",
      "al                348 non-null float64\n",
      "su                345 non-null float64\n",
      "pc                330 non-null object\n",
      "pcc               368 non-null object\n",
      "ba                368 non-null object\n",
      "bgr               338 non-null float64\n",
      "bu                359 non-null float64\n",
      "sc                361 non-null float64\n",
      "hemo              336 non-null float64\n",
      "pcv               325 non-null object\n",
      "htn               370 non-null object\n",
      "dm                370 non-null object\n",
      "cad               370 non-null object\n",
      "appet             371 non-null object\n",
      "pe                371 non-null object\n",
      "ane               371 non-null object\n",
      "classification    372 non-null object\n",
      "dtypes: float64(9), object(11)\n",
      "memory usage: 61.0+ KB\n"
     ]
    }
   ],
   "source": [
    "# delete bad rows\n",
    "df = df.drop(bad_row)\n",
    "df.info()"
   ]
  },
  {
   "cell_type": "code",
   "execution_count": 13,
   "metadata": {},
   "outputs": [],
   "source": [
    "df = df.replace('\\t','',regex=True)"
   ]
  },
  {
   "cell_type": "code",
   "execution_count": 14,
   "metadata": {},
   "outputs": [],
   "source": [
    "df = df.replace(' ','',regex=True)"
   ]
  },
  {
   "cell_type": "code",
   "execution_count": 15,
   "metadata": {
    "scrolled": true
   },
   "outputs": [],
   "source": [
    "df = df.replace('\\?','np.nan',regex=True)"
   ]
  },
  {
   "cell_type": "code",
   "execution_count": 16,
   "metadata": {},
   "outputs": [
    {
     "data": {
      "text/plain": [
       "dtype('O')"
      ]
     },
     "execution_count": 16,
     "metadata": {},
     "output_type": "execute_result"
    }
   ],
   "source": [
    "np.dtype(df['pcv'])"
   ]
  },
  {
   "cell_type": "code",
   "execution_count": 17,
   "metadata": {},
   "outputs": [],
   "source": [
    "df[\"pcv\"] = pd.to_numeric(df.pcv, errors='coerce')"
   ]
  },
  {
   "cell_type": "code",
   "execution_count": 18,
   "metadata": {},
   "outputs": [],
   "source": [
    "#for t in range(400):\n",
    "#    if X['ane'][t].isnull():\n",
    "#        print(t)\n",
    "\n",
    "#null_data = df[df.isnull().any(axis=1)]\n",
    "#X = X.replace('\\t','',regex=True)\n",
    "#X = X.replace(' ','',regex=True)\n",
    "\n",
    "#X[index[14]] = X[index[14]].replace('\\?','np.nan',regex=True).astype(float)"
   ]
  },
  {
   "cell_type": "code",
   "execution_count": 19,
   "metadata": {},
   "outputs": [],
   "source": [
    "X = df.drop('classification',axis=1)\n",
    "y = df['classification']"
   ]
  },
  {
   "cell_type": "code",
   "execution_count": 20,
   "metadata": {},
   "outputs": [],
   "source": [
    "from sklearn.base import TransformerMixin\n",
    "\n",
    "class DataFrameImputer(TransformerMixin):\n",
    "    def __init__(self):\n",
    "        \"\"\"Impute missing values.\n",
    "        - Columns of dtype object are imputed with the most frequent value in column.\n",
    "        - Columns of other types are imputed with mean of column.\n",
    "        \"\"\"\n",
    "    def fit(self, X, y=None):\n",
    "        self.fill = pd.Series([X[c].value_counts().index[0]\n",
    "            # numerical --> mean, categorical --> median\n",
    "            if X[c].dtype == np.dtype('O') else X[c].mean() for c in X], index=X.columns)  \n",
    "                               \n",
    "            # numerical, categorical --> median                   \n",
    "            #if X[c].dtype == np.dtype('O') else X[c].median() for c in X], index=X.columns)\n",
    "        return self\n",
    "\n",
    "    def transform(self, X, y=None):\n",
    "        return X.fillna(self.fill)"
   ]
  },
  {
   "cell_type": "code",
   "execution_count": 21,
   "metadata": {
    "scrolled": true
   },
   "outputs": [],
   "source": [
    "X = DataFrameImputer().fit_transform(X)"
   ]
  },
  {
   "cell_type": "code",
   "execution_count": 22,
   "metadata": {},
   "outputs": [
    {
     "name": "stdout",
     "output_type": "stream",
     "text": [
      "<class 'pandas.core.frame.DataFrame'>\n",
      "Int64Index: 372 entries, 0 to 399\n",
      "Data columns (total 19 columns):\n",
      "age      372 non-null float64\n",
      "bp       372 non-null float64\n",
      "sg       372 non-null float64\n",
      "al       372 non-null float64\n",
      "su       372 non-null float64\n",
      "pc       372 non-null object\n",
      "pcc      372 non-null object\n",
      "ba       372 non-null object\n",
      "bgr      372 non-null float64\n",
      "bu       372 non-null float64\n",
      "sc       372 non-null float64\n",
      "hemo     372 non-null float64\n",
      "pcv      372 non-null float64\n",
      "htn      372 non-null object\n",
      "dm       372 non-null object\n",
      "cad      372 non-null object\n",
      "appet    372 non-null object\n",
      "pe       372 non-null object\n",
      "ane      372 non-null object\n",
      "dtypes: float64(10), object(9)\n",
      "memory usage: 58.1+ KB\n"
     ]
    }
   ],
   "source": [
    "X.info()"
   ]
  },
  {
   "cell_type": "code",
   "execution_count": 23,
   "metadata": {
    "scrolled": true
   },
   "outputs": [],
   "source": [
    "X = np.array(X)"
   ]
  },
  {
   "cell_type": "code",
   "execution_count": 24,
   "metadata": {},
   "outputs": [],
   "source": [
    "l,n = X.shape\n",
    "ib_list = [5,6,7,13,14,15,16,17,18]\n",
    "xb = np.zeros((l,n))\n",
    "for ib in ib_list:\n",
    "    xb[:,ib] = np.array([1. if t == np.unique(X[:,ib])[0] else -1. for t in X[:,ib]])"
   ]
  },
  {
   "cell_type": "code",
   "execution_count": 25,
   "metadata": {},
   "outputs": [],
   "source": [
    "X1 = X[:,:5].astype(float)\n",
    "X2 = X[:,8:13].astype(float)"
   ]
  },
  {
   "cell_type": "code",
   "execution_count": 26,
   "metadata": {},
   "outputs": [],
   "source": [
    "X = np.hstack([X1,xb[:,5:8],X2,xb[:,13:]])"
   ]
  },
  {
   "cell_type": "code",
   "execution_count": 27,
   "metadata": {
    "scrolled": true
   },
   "outputs": [
    {
     "data": {
      "text/plain": [
       "(372, 19)"
      ]
     },
     "execution_count": 27,
     "metadata": {},
     "output_type": "execute_result"
    }
   ],
   "source": [
    "X.shape"
   ]
  },
  {
   "cell_type": "code",
   "execution_count": 28,
   "metadata": {},
   "outputs": [],
   "source": [
    "#np.savetxt('../kidney_X_cleaned.txt',X,fmt='%f')"
   ]
  },
  {
   "cell_type": "code",
   "execution_count": 33,
   "metadata": {},
   "outputs": [
    {
     "data": {
      "text/plain": [
       "(array(['ckd', 'notckd'], dtype=object), array([223, 149]))"
      ]
     },
     "execution_count": 33,
     "metadata": {},
     "output_type": "execute_result"
    }
   ],
   "source": [
    "y = np.array(y)\n",
    "np.unique(y,return_counts=True)"
   ]
  },
  {
   "cell_type": "code",
   "execution_count": 34,
   "metadata": {},
   "outputs": [
    {
     "data": {
      "text/plain": [
       "(372,)"
      ]
     },
     "execution_count": 34,
     "metadata": {},
     "output_type": "execute_result"
    }
   ],
   "source": [
    "from sklearn.preprocessing import OneHotEncoder\n",
    "onehot_encoder = OneHotEncoder(sparse=False,categories='auto')\n",
    "\n",
    "y = onehot_encoder.fit_transform(y.reshape(-1,1))\n",
    "y = np.argmax(y,axis=1)\n",
    "y.shape"
   ]
  },
  {
   "cell_type": "code",
   "execution_count": 36,
   "metadata": {},
   "outputs": [],
   "source": [
    "np.savetxt('../kidney_X_cleaned.txt',X,fmt='%f')\n",
    "np.savetxt('../kidney_y_cleaned.txt',y,fmt='%i')"
   ]
  },
  {
   "cell_type": "code",
   "execution_count": null,
   "metadata": {},
   "outputs": [],
   "source": []
  }
 ],
 "metadata": {
  "kernelspec": {
   "display_name": "Python 3",
   "language": "python",
   "name": "python3"
  },
  "language_info": {
   "codemirror_mode": {
    "name": "ipython",
    "version": 3
   },
   "file_extension": ".py",
   "mimetype": "text/x-python",
   "name": "python",
   "nbconvert_exporter": "python",
   "pygments_lexer": "ipython3",
   "version": "3.7.3"
  }
 },
 "nbformat": 4,
 "nbformat_minor": 2
}
